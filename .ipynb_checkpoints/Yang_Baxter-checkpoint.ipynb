{
 "cells": [
  {
   "cell_type": "code",
   "execution_count": 1,
   "metadata": {
    "collapsed": true
   },
   "outputs": [],
   "source": [
    "import numpy as np"
   ]
  },
  {
   "cell_type": "code",
   "execution_count": 2,
   "metadata": {
    "collapsed": false
   },
   "outputs": [],
   "source": [
    "a_1 = 1\n",
    "b_1 = 1\n",
    "c_1 = 1\n",
    "v1_1 = np.array([[a_1,0],[0,b_1]])\n",
    "v2_1 = np.array([[0,0],[c_1,0]])\n",
    "v3_1 = np.array([[0,c_1],[0,0]])\n",
    "v4_1 = np.array([[b_1,0],[0,a_1]])\n",
    "R1 = np.array([[v1_1,v2_1],[v3_1,v4_1]])"
   ]
  },
  {
   "cell_type": "code",
   "execution_count": 3,
   "metadata": {
    "collapsed": false
   },
   "outputs": [],
   "source": [
    "a_2 = 1\n",
    "b_2 = 1\n",
    "c_2 = 1\n",
    "v1_2 = np.array([[a_2,0],[0,b_2]])\n",
    "v2_2 = np.array([[0,0],[c_2,0]])\n",
    "v3_2 = np.array([[0,c_2],[0,0]])\n",
    "v4_2 = np.array([[b_2,0],[0,a_2]])\n",
    "R2 = np.array([[v1_2,v2_2],[v3_2,v4_2]])"
   ]
  },
  {
   "cell_type": "code",
   "execution_count": 4,
   "metadata": {
    "collapsed": true
   },
   "outputs": [],
   "source": [
    "a_3 = 1\n",
    "b_3 = 1\n",
    "c_3 = 1\n",
    "v1_3 = np.array([[a_3,0],[0,b_3]])\n",
    "v2_3 = np.array([[0,0],[c_3,0]])\n",
    "v3_3 = np.array([[0,c_3],[0,0]])\n",
    "v4_3 = np.array([[b_3,0],[0,a_3]])\n",
    "R3 = np.array([[v1_3,v2_3],[v3_3,v4_3]])"
   ]
  },
  {
   "cell_type": "code",
   "execution_count": 5,
   "metadata": {
    "collapsed": false
   },
   "outputs": [
    {
     "data": {
      "text/plain": [
       "1"
      ]
     },
     "execution_count": 5,
     "metadata": {},
     "output_type": "execute_result"
    }
   ],
   "source": [
    "j_1= 0\n",
    "my_1 = 0\n",
    "ny_1 = 0\n",
    "i_1 = 0\n",
    "R1[j_1,my_1,ny_1,i_1]"
   ]
  },
  {
   "cell_type": "code",
   "execution_count": 6,
   "metadata": {
    "collapsed": false
   },
   "outputs": [
    {
     "data": {
      "text/plain": [
       "1"
      ]
     },
     "execution_count": 6,
     "metadata": {},
     "output_type": "execute_result"
    }
   ],
   "source": [
    "j_2 = 0\n",
    "my_2 = 0\n",
    "ny_2 = 0\n",
    "i_2 = 0\n",
    "R2[j_2,my_2,ny_2,i_2]"
   ]
  },
  {
   "cell_type": "code",
   "execution_count": 7,
   "metadata": {
    "collapsed": false
   },
   "outputs": [
    {
     "data": {
      "text/plain": [
       "1"
      ]
     },
     "execution_count": 7,
     "metadata": {},
     "output_type": "execute_result"
    }
   ],
   "source": [
    "j_3=0\n",
    "my_3 = 0\n",
    "ny_3 = 0\n",
    "i_3 = 0\n",
    "R3[j_3,my_3,ny_3,i_3]"
   ]
  },
  {
   "cell_type": "code",
   "execution_count": 8,
   "metadata": {
    "collapsed": false
   },
   "outputs": [
    {
     "data": {
      "text/plain": [
       "1"
      ]
     },
     "execution_count": 8,
     "metadata": {},
     "output_type": "execute_result"
    }
   ],
   "source": [
    "R1[j_1,my_1,ny_1,i_1]*R2[j_2,my_2,j_1,i_2]*R3[my_2,my_3,i_1,i_3] #i_1,my_2,j_1"
   ]
  },
  {
   "cell_type": "code",
   "execution_count": 9,
   "metadata": {
    "collapsed": false
   },
   "outputs": [
    {
     "data": {
      "text/plain": [
       "1"
      ]
     },
     "execution_count": 9,
     "metadata": {},
     "output_type": "execute_result"
    }
   ],
   "source": [
    "R2[j_1,my_3,my_1,i_1]*R3[j_2,j_1,ny_1,my_2]*R1[i_2,i_1,my_2,i_3]"
   ]
  },
  {
   "cell_type": "code",
   "execution_count": 10,
   "metadata": {
    "collapsed": false
   },
   "outputs": [],
   "source": [
    "Yang_Baxter_1 = 0\n",
    "Yang_Baxter_2 = 0\n",
    "for i_1 in range(0,2):\n",
    "    for my_2 in range(0,2):\n",
    "        for j_1 in range(0,2):\n",
    "            Yang_Baxter_1 += R1[j_1,my_1,ny_1,i_1]*R2[j_2,my_2,j_1,i_2]*R3[my_2,my_3,i_1,i_3]\n",
    "            Yang_Baxter_2 += R2[j_1,my_3,my_1,i_1]*R3[j_2,j_1,ny_1,my_2]*R1[i_2,i_1,my_2,i_3]"
   ]
  },
  {
   "cell_type": "code",
   "execution_count": 11,
   "metadata": {
    "collapsed": false
   },
   "outputs": [
    {
     "name": "stdout",
     "output_type": "stream",
     "text": [
      "1 1\n"
     ]
    }
   ],
   "source": [
    "print(Yang_Baxter_2,Yang_Baxter_1)"
   ]
  },
  {
   "cell_type": "code",
   "execution_count": 12,
   "metadata": {
    "collapsed": true
   },
   "outputs": [],
   "source": [
    "def Yang_Baxter(my_1,ny_1,j_2,i_2,my_3,i_3):\n",
    "    Yang_Baxter_1 = 0\n",
    "    Yang_Baxter_2 = 0\n",
    "    for i_1 in range(0,2):\n",
    "        for my_2 in range(0,2):\n",
    "            for j_1 in range(0,2):\n",
    "                Yang_Baxter_1 += R1[j_1,my_1,ny_1,i_1]*R2[j_2,my_2,j_1,i_2]*R3[my_2,my_3,i_1,i_3]\n",
    "                Yang_Baxter_2 += R2[j_1,my_3,my_1,i_1]*R3[j_2,j_1,ny_1,my_2]*R1[i_2,i_1,my_2,i_3]\n",
    "                return [Yang_Baxter_2,Yang_Baxter_1]\n",
    "# R1(v-v'), R2(v'), R3(v)"
   ]
  },
  {
   "cell_type": "code",
   "execution_count": 14,
   "metadata": {
    "collapsed": false
   },
   "outputs": [
    {
     "name": "stdout",
     "output_type": "stream",
     "text": [
      "passt\n",
      "passt\n",
      "passt\n",
      "passt\n",
      "passt\n",
      "käse in my_1 = 0 ny_1 = 0 j_2 = 0 i_2 = 1 my_3 = 0 i_3 = 1\n",
      "1 nicht gleich 0\n",
      "passt\n",
      "passt\n",
      "passt\n",
      "passt\n",
      "passt\n",
      "passt\n",
      "käse in my_1 = 0 ny_1 = 0 j_2 = 1 i_2 = 1 my_3 = 0 i_3 = 0\n",
      "0 nicht gleich 1\n",
      "passt\n",
      "passt\n",
      "passt\n",
      "passt\n",
      "passt\n",
      "passt\n",
      "passt\n",
      "passt\n",
      "passt\n",
      "passt\n",
      "passt\n",
      "passt\n",
      "passt\n",
      "passt\n",
      "passt\n",
      "passt\n",
      "passt\n",
      "passt\n",
      "passt\n",
      "passt\n",
      "passt\n",
      "käse in my_1 = 1 ny_1 = 0 j_2 = 0 i_2 = 0 my_3 = 1 i_3 = 0\n",
      "1 nicht gleich 0\n",
      "passt\n",
      "passt\n",
      "passt\n",
      "passt\n",
      "käse in my_1 = 1 ny_1 = 0 j_2 = 0 i_2 = 1 my_3 = 1 i_3 = 1\n",
      "1 nicht gleich 0\n",
      "passt\n",
      "passt\n",
      "passt\n",
      "passt\n",
      "passt\n",
      "passt\n",
      "passt\n",
      "passt\n",
      "käse in my_1 = 1 ny_1 = 1 j_2 = 0 i_2 = 0 my_3 = 0 i_3 = 0\n",
      "0 nicht gleich 1\n",
      "passt\n",
      "passt\n",
      "passt\n",
      "passt\n",
      "passt\n",
      "passt\n",
      "passt\n",
      "passt\n",
      "passt\n",
      "passt\n",
      "passt\n",
      "käse in my_1 = 1 ny_1 = 1 j_2 = 1 i_2 = 1 my_3 = 0 i_3 = 0\n",
      "0 nicht gleich 1\n",
      "passt\n",
      "passt\n",
      "passt\n"
     ]
    }
   ],
   "source": [
    "for my_1 in range(0,2):\n",
    "    for ny_1 in range(0,2):\n",
    "        for j_2 in range(0,2):\n",
    "            for i_2 in range(0,2):\n",
    "                for my_3 in range(0,2):\n",
    "                    for i_3 in range(0,2):\n",
    "                        if Yang_Baxter(my_1,ny_1,j_2,i_2,my_3,i_3)[0] != Yang_Baxter(my_1,ny_1,j_2,i_2,my_3,i_3)[1]:\n",
    "                            print('käse in'+' my_1 = '+str(my_1)+' ny_1 = '+str(ny_1)+' j_2 = '+str(j_2)+' i_2 = '+str(i_2)+' my_3 = '+str(my_3)+' i_3 = '+str(i_3))\n",
    "                            print(str(Yang_Baxter(my_1,ny_1,j_2,i_2,my_3,i_3)[0])+' nicht gleich '+str(Yang_Baxter(my_1,ny_1,j_2,i_2,my_3,i_3)[1]))\n",
    "                        else: print('passt')"
   ]
  },
  {
   "cell_type": "code",
   "execution_count": null,
   "metadata": {
    "collapsed": true
   },
   "outputs": [],
   "source": []
  }
 ],
 "metadata": {
  "kernelspec": {
   "display_name": "Python 3",
   "language": "python",
   "name": "python3"
  },
  "language_info": {
   "codemirror_mode": {
    "name": "ipython",
    "version": 3
   },
   "file_extension": ".py",
   "mimetype": "text/x-python",
   "name": "python",
   "nbconvert_exporter": "python",
   "pygments_lexer": "ipython3",
   "version": "3.4.3"
  }
 },
 "nbformat": 4,
 "nbformat_minor": 0
}
